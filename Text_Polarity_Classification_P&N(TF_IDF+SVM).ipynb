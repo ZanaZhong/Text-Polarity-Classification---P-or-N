{
  "nbformat": 4,
  "nbformat_minor": 0,
  "metadata": {
    "colab": {
      "name": "Text Polarity Classification-P&N(TF-IDF+SVM).ipynb",
      "provenance": [],
      "collapsed_sections": [],
      "machine_shape": "hm"
    },
    "kernelspec": {
      "name": "python3",
      "display_name": "Python 3"
    },
    "accelerator": "GPU"
  },
  "cells": [
    {
      "cell_type": "markdown",
      "metadata": {
        "id": "J9QsK5tR60pH",
        "colab_type": "text"
      },
      "source": [
        "# 前情提要\n",
        "此次作業交的 CSV 檔為 TF-IDF + Logistic Regression 的結果  \n",
        "在 Kaggle 的成績為 0.70750"
      ]
    },
    {
      "cell_type": "code",
      "metadata": {
        "id": "VksyEbN8MFge",
        "colab_type": "code",
        "colab": {
          "base_uri": "https://localhost:8080/",
          "height": 205
        },
        "outputId": "a475a948-80ee-48d5-9559-55f2bae57632"
      },
      "source": [
        "# 要預先載入\n",
        "import nltk\n",
        "nltk.download('punkt')\n",
        "nltk.download('averaged_perceptron_tagger')\n",
        "nltk.download('wordnet')\n",
        "nltk.download('stopwords')"
      ],
      "execution_count": null,
      "outputs": [
        {
          "output_type": "stream",
          "text": [
            "[nltk_data] Downloading package punkt to /root/nltk_data...\n",
            "[nltk_data]   Unzipping tokenizers/punkt.zip.\n",
            "[nltk_data] Downloading package averaged_perceptron_tagger to\n",
            "[nltk_data]     /root/nltk_data...\n",
            "[nltk_data]   Unzipping taggers/averaged_perceptron_tagger.zip.\n",
            "[nltk_data] Downloading package wordnet to /root/nltk_data...\n",
            "[nltk_data]   Unzipping corpora/wordnet.zip.\n",
            "[nltk_data] Downloading package stopwords to /root/nltk_data...\n",
            "[nltk_data]   Unzipping corpora/stopwords.zip.\n"
          ],
          "name": "stdout"
        },
        {
          "output_type": "execute_result",
          "data": {
            "text/plain": [
              "True"
            ]
          },
          "metadata": {
            "tags": []
          },
          "execution_count": 30
        }
      ]
    },
    {
      "cell_type": "markdown",
      "metadata": {
        "id": "cYP243CyR2Qz",
        "colab_type": "text"
      },
      "source": [
        "[nltk 教學](https://clay-atlas.com/blog/2019/07/30/%E3%80%90nlp%E3%80%91nltk-%E5%9F%BA%E6%9C%AC%E6%95%99%E5%AD%B8/)"
      ]
    },
    {
      "cell_type": "code",
      "metadata": {
        "id": "JnJ5FOJotFBw",
        "colab_type": "code",
        "colab": {
          "base_uri": "https://localhost:8080/",
          "height": 131
        },
        "outputId": "3cca9b24-fc5d-4ffa-96a8-c0c0dc809454"
      },
      "source": [
        "from google.colab import drive\n",
        "drive.mount('/content/drive')"
      ],
      "execution_count": null,
      "outputs": [
        {
          "output_type": "stream",
          "text": [
            "Go to this URL in a browser: https://accounts.google.com/o/oauth2/auth?client_id=947318989803-6bn6qk8qdgf4n4g3pfee6491hc0brc4i.apps.googleusercontent.com&redirect_uri=urn%3aietf%3awg%3aoauth%3a2.0%3aoob&response_type=code&scope=email%20https%3a%2f%2fwww.googleapis.com%2fauth%2fdocs.test%20https%3a%2f%2fwww.googleapis.com%2fauth%2fdrive%20https%3a%2f%2fwww.googleapis.com%2fauth%2fdrive.photos.readonly%20https%3a%2f%2fwww.googleapis.com%2fauth%2fpeopleapi.readonly\n",
            "\n",
            "Enter your authorization code:\n",
            "··········\n",
            "Mounted at /content/drive\n"
          ],
          "name": "stdout"
        }
      ]
    },
    {
      "cell_type": "code",
      "metadata": {
        "id": "6AeOpqk6tFsu",
        "colab_type": "code",
        "colab": {}
      },
      "source": [
        "import pandas as pd\n",
        "import numpy as np\n",
        "corpus_root = 'drive/My Drive/DS HW/' \n",
        "\n",
        "df = pd.read_csv(corpus_root+'train.csv')\n",
        "df_test = pd.read_csv(corpus_root+'test_no_answer.csv')"
      ],
      "execution_count": null,
      "outputs": []
    },
    {
      "cell_type": "markdown",
      "metadata": {
        "id": "LgpZlkM6jATE",
        "colab_type": "text"
      },
      "source": [
        "## 前處理"
      ]
    },
    {
      "cell_type": "markdown",
      "metadata": {
        "id": "3wX_ruqvR5ac",
        "colab_type": "text"
      },
      "source": [
        "### 刪除標點符號  \n",
        "\n",
        "ref: https://gist.github.com/youngsoul/34d4ded8d4edb82fdfb8f9a91ade2c0d  \n",
        "\n",
        "    table = str.maketrans({key: None for key in string.punctuation})\n",
        "    return text.lower().translate(table)\n",
        "ref: https://www.kite.com/python/answers/how-to-remove-all-punctuation-marks-with-nltk-in-python  \n",
        "\n",
        "ref: http://blog.fantasy.codes/python/2013/07/02/py-re-module/\n"
      ]
    },
    {
      "cell_type": "code",
      "metadata": {
        "id": "f3mhggmtR456",
        "colab_type": "code",
        "colab": {}
      },
      "source": [
        "import re\n",
        "import string\n",
        "\n",
        "# 還原縮寫 主要還原 not\n",
        "abbr = {        \n",
        "    \"isn t \":\"is not \",\n",
        "    \"wasn t \":\"was not \",\n",
        "    \"aren t \":\"are not \",\n",
        "    \"weren t \":\"were not \",\n",
        "    \"can t \":\"can not \",\n",
        "    \"couldn t \":\"could not \",\n",
        "    \"don t \":\"do not \",\n",
        "    \"doesn t \":\"does not \",\n",
        "    \"didn t \":\"did not \",\n",
        "    \"won t \":\"will not \",\n",
        "    \"wouldn t \":\"would not \",\n",
        "    \"hasn t \":\"has not \",\n",
        "    \"haven t \":\"have not \",\n",
        "    \"hadn t \":\"had not \",\n",
        "    \"shouldn t \":\"should not \",\n",
        "}\n",
        "\n",
        "def remove_punctuation(text):\n",
        "    tokenizer = nltk.RegexpTokenizer(r'\\w+')\n",
        "    new_words = tokenizer.tokenize(text)\n",
        "    new_words = ' '.join(new_words)\n",
        "    \n",
        "    for word, origin in abbr.items():\n",
        "        new_words = new_words.replace(word, origin)\n",
        "\n",
        "    return new_words"
      ],
      "execution_count": null,
      "outputs": []
    },
    {
      "cell_type": "markdown",
      "metadata": {
        "id": "XUY725btLRIv",
        "colab_type": "text"
      },
      "source": [
        "### 詞型還原  \n",
        "\n",
        "ref: https://www.zmonster.me/2016/01/21/lemmatization-survey.html\n",
        "\n",
        "\n",
        "\n"
      ]
    },
    {
      "cell_type": "code",
      "metadata": {
        "id": "pEKpjFR4K9tB",
        "colab_type": "code",
        "colab": {}
      },
      "source": [
        "from nltk.corpus import wordnet, stopwords\n",
        "from nltk import word_tokenize, pos_tag\n",
        "from nltk.stem import WordNetLemmatizer\n",
        "\n",
        "def get_wordnet_pos(treebank_tag):\n",
        "    if treebank_tag.startswith('J'):\n",
        "        return wordnet.ADJ\n",
        "    elif treebank_tag.startswith('V'):\n",
        "        return wordnet.VERB\n",
        "    elif treebank_tag.startswith('N'):\n",
        "        return wordnet.NOUN\n",
        "    elif treebank_tag.startswith('R'):\n",
        "        return wordnet.ADV\n",
        "    else :\n",
        "        return  None\n",
        "\n",
        "def lemmatize_sentence(sentence):\n",
        "    res = []\n",
        "    lemmatizer = WordNetLemmatizer()\n",
        "    for word, pos in pos_tag(word_tokenize(sentence)):\n",
        "        wordnet_pos = get_wordnet_pos(pos) or wordnet.NOUN\n",
        "        res.append(lemmatizer.lemmatize(word, pos=wordnet_pos))\n",
        "\n",
        "    return ' '.join(res)"
      ],
      "execution_count": null,
      "outputs": []
    },
    {
      "cell_type": "markdown",
      "metadata": {
        "id": "KWt-qtmDi6aT",
        "colab_type": "text"
      },
      "source": [
        "## TF-IDF\n",
        "[min_df and max_df](https://stackoverflow.com/questions/27697766/understanding-min-df-and-max-df-in-scikit-countvectorizer) [.](https://intellipaat.com/community/3371/understanding-mindf-and-maxdf-in-scikit-countvectorizer)\n",
        "\n",
        "[依比例切分Postive & Negative 的資料當 Training Data](https://zhuanlan.zhihu.com/p/35919812)\n",
        "\n",
        "[pandas concatenating 合併資料 <concat 設定 axis=0 為直向合併](http://violin-tao.blogspot.com/2017/06/pandas-2-concat-merge.html)"
      ]
    },
    {
      "cell_type": "code",
      "metadata": {
        "id": "ef2AHXjas_AY",
        "colab_type": "code",
        "colab": {
          "base_uri": "https://localhost:8080/",
          "height": 243
        },
        "outputId": "d67b9d5b-440d-42cb-cc74-fb81c7a2fb5d"
      },
      "source": [
        "from sklearn.feature_extraction.text import TfidfVectorizer\n",
        "from sklearn.model_selection import train_test_split\n",
        "\n",
        "max_features = 50000\n",
        "\n",
        "df['TEXT'] = df['TEXT'].apply(remove_punctuation)\n",
        "df['TEXT'] = df['TEXT'].apply(lemmatize_sentence)\n",
        "df_test['TEXT'] = df_test['TEXT'].apply(remove_punctuation)\n",
        "df_test['TEXT'] = df_test['TEXT'].apply(lemmatize_sentence)\n",
        "print(df['TEXT'])\n",
        "\n",
        "# https://intellipaat.com/community/3371/understanding-mindf-and-maxdf-in-scikit-countvectorizer\n",
        "tfidf = TfidfVectorizer(max_features=max_features, ngram_range=(1, 2), sublinear_tf = True, norm='l2')\n",
        "\n",
        "df['TFIDF'] = list(tfidf.fit_transform(df['TEXT']).toarray())\n",
        "df_test['TFIDF'] = list(tfidf.transform(df_test['TEXT']).toarray())\n",
        "\n",
        "X_train = list(df['TFIDF'])\n",
        "y_train = list(df[\"LABEL\"])"
      ],
      "execution_count": null,
      "outputs": [
        {
          "output_type": "stream",
          "text": [
            "0         good to know if you can not find these elsewhere\n",
            "1        love it the grill plat come out and pop in the...\n",
            "2        i m convince this be a poorly execute refurbis...\n",
            "3        i would never have complain about that if it w...\n",
            "4        the photo show the same whole large candy we v...\n",
            "                               ...                        \n",
            "10995                 i do not quite get it the first time\n",
            "10996    i ve try instal with and without the oem stock...\n",
            "10997    i be park at a truck stop in the cincinnati oh...\n",
            "10998    i recently buy this case after see some youtub...\n",
            "10999    the keyboard type only of the time and the mou...\n",
            "Name: TEXT, Length: 11000, dtype: object\n"
          ],
          "name": "stdout"
        }
      ]
    },
    {
      "cell_type": "markdown",
      "metadata": {
        "id": "Yyh0mmII38_U",
        "colab_type": "text"
      },
      "source": [
        "## SVM\n",
        "TF-IDF + SVM"
      ]
    },
    {
      "cell_type": "code",
      "metadata": {
        "id": "_vyAc2satJFQ",
        "colab_type": "code",
        "colab": {
          "base_uri": "https://localhost:8080/",
          "height": 35
        },
        "outputId": "33bebf92-c6ab-47c9-f1fe-9fc660a6828e"
      },
      "source": [
        "from sklearn.metrics import accuracy_score, roc_auc_score, confusion_matrix, classification_report\n",
        "from sklearn.svm import LinearSVC, SVC\n",
        "\n",
        "svm_model = LinearSVC()\n",
        "svm_model.fit(X_train, y_train)\n",
        "\n",
        "svm_pred_test = svm_model.predict(list(df_test['TFIDF']))\n",
        "print(svm_pred_test)"
      ],
      "execution_count": null,
      "outputs": [
        {
          "output_type": "stream",
          "text": [
            "[1 0 1 ... 0 0 0]\n"
          ],
          "name": "stdout"
        }
      ]
    },
    {
      "cell_type": "markdown",
      "metadata": {
        "id": "PE-KG0cCeo6-",
        "colab_type": "text"
      },
      "source": [
        "## BaseLine輸出檔案\n",
        "TF-IDF + SVM"
      ]
    },
    {
      "cell_type": "code",
      "metadata": {
        "id": "2qolUw33eclY",
        "colab_type": "code",
        "colab": {
          "base_uri": "https://localhost:8080/",
          "height": 421
        },
        "outputId": "ce1fe39b-9772-4a9f-c289-f7c9f5f2b2f8"
      },
      "source": [
        "Bsubmission = pd.DataFrame({'row_id': df_test['row_id'],\n",
        "                           'LABEL': svm_pred_test})\n",
        "Bsubmission.to_csv(corpus_root + 'BaseLineSubmission.csv', index = False)\n",
        "Bsubmission"
      ],
      "execution_count": null,
      "outputs": [
        {
          "output_type": "execute_result",
          "data": {
            "text/html": [
              "<div>\n",
              "<style scoped>\n",
              "    .dataframe tbody tr th:only-of-type {\n",
              "        vertical-align: middle;\n",
              "    }\n",
              "\n",
              "    .dataframe tbody tr th {\n",
              "        vertical-align: top;\n",
              "    }\n",
              "\n",
              "    .dataframe thead th {\n",
              "        text-align: right;\n",
              "    }\n",
              "</style>\n",
              "<table border=\"1\" class=\"dataframe\">\n",
              "  <thead>\n",
              "    <tr style=\"text-align: right;\">\n",
              "      <th></th>\n",
              "      <th>row_id</th>\n",
              "      <th>LABEL</th>\n",
              "    </tr>\n",
              "  </thead>\n",
              "  <tbody>\n",
              "    <tr>\n",
              "      <th>0</th>\n",
              "      <td>0</td>\n",
              "      <td>1</td>\n",
              "    </tr>\n",
              "    <tr>\n",
              "      <th>1</th>\n",
              "      <td>1</td>\n",
              "      <td>0</td>\n",
              "    </tr>\n",
              "    <tr>\n",
              "      <th>2</th>\n",
              "      <td>2</td>\n",
              "      <td>1</td>\n",
              "    </tr>\n",
              "    <tr>\n",
              "      <th>3</th>\n",
              "      <td>3</td>\n",
              "      <td>0</td>\n",
              "    </tr>\n",
              "    <tr>\n",
              "      <th>4</th>\n",
              "      <td>4</td>\n",
              "      <td>0</td>\n",
              "    </tr>\n",
              "    <tr>\n",
              "      <th>...</th>\n",
              "      <td>...</td>\n",
              "      <td>...</td>\n",
              "    </tr>\n",
              "    <tr>\n",
              "      <th>1995</th>\n",
              "      <td>1995</td>\n",
              "      <td>0</td>\n",
              "    </tr>\n",
              "    <tr>\n",
              "      <th>1996</th>\n",
              "      <td>1996</td>\n",
              "      <td>0</td>\n",
              "    </tr>\n",
              "    <tr>\n",
              "      <th>1997</th>\n",
              "      <td>1997</td>\n",
              "      <td>0</td>\n",
              "    </tr>\n",
              "    <tr>\n",
              "      <th>1998</th>\n",
              "      <td>1998</td>\n",
              "      <td>0</td>\n",
              "    </tr>\n",
              "    <tr>\n",
              "      <th>1999</th>\n",
              "      <td>1999</td>\n",
              "      <td>0</td>\n",
              "    </tr>\n",
              "  </tbody>\n",
              "</table>\n",
              "<p>2000 rows × 2 columns</p>\n",
              "</div>"
            ],
            "text/plain": [
              "      row_id  LABEL\n",
              "0          0      1\n",
              "1          1      0\n",
              "2          2      1\n",
              "3          3      0\n",
              "4          4      0\n",
              "...      ...    ...\n",
              "1995    1995      0\n",
              "1996    1996      0\n",
              "1997    1997      0\n",
              "1998    1998      0\n",
              "1999    1999      0\n",
              "\n",
              "[2000 rows x 2 columns]"
            ]
          },
          "metadata": {
            "tags": []
          },
          "execution_count": 33
        }
      ]
    }
  ]
}